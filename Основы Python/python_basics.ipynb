{
 "cells": [
  {
   "cell_type": "markdown",
   "metadata": {},
   "source": [
    "**Задание 1**. Даны 2 строки: *long_phrase* и *short_phrase*. \n",
    "Напишите код, который проверяет действительно ли длинная фраза *long_phrase* длиннее короткой *short_phrase*. И выводит *True* или *False* в зависимости от результата сравнения."
   ]
  },
  {
   "cell_type": "code",
   "execution_count": 2,
   "metadata": {},
   "outputs": [],
   "source": [
    "long_phrase = 'Насколько проще было бы писать программы, если бы не заказчики'\n",
    "short_phrase = '640Кб должно хватить для любых задач. Билл Гейтс (по легенде)'"
   ]
  },
  {
   "cell_type": "code",
   "execution_count": 3,
   "metadata": {},
   "outputs": [
    {
     "data": {
      "text/plain": [
       "True"
      ]
     },
     "execution_count": 3,
     "metadata": {},
     "output_type": "execute_result"
    }
   ],
   "source": [
    "len(long_phrase) > len(short_phrase)"
   ]
  },
  {
   "cell_type": "markdown",
   "metadata": {},
   "source": [
    "**Задание 2**. Дано значение объема файла в байтах (*в мегабайте 2^20 байт*). Напишите перевод этого значения в мегабайты в формате: \"*Объем файла равен 213.68Mb*\"."
   ]
  },
  {
   "cell_type": "code",
   "execution_count": 41,
   "metadata": {
    "scrolled": true
   },
   "outputs": [
    {
     "name": "stdout",
     "output_type": "stream",
     "text": [
      "Объем файла равен 1.048576 Mb\n"
     ]
    }
   ],
   "source": [
    "size = (2**20)/1000000\n",
    "print('Объем файла равен', size, 'Mb')"
   ]
  },
  {
   "cell_type": "markdown",
   "metadata": {},
   "source": [
    "**Задание 3**. Разработать приложение для определения знака зодиака по дате рождения. Пример:\n",
    "\n",
    "Введите месяц: март\n",
    "\n",
    "Введите число: 6\n",
    "\n",
    "Вывод:\n",
    "Рыбы"
   ]
  },
  {
   "cell_type": "code",
   "execution_count": 39,
   "metadata": {
    "scrolled": true
   },
   "outputs": [
    {
     "name": "stdout",
     "output_type": "stream",
     "text": [
      "Введите месяц рождения от 1 до 12: 12\n",
      "\n",
      "Введите дату рождения от 1 до 31: 36\n",
      "\n",
      "Неправильно введена дата рождения\n"
     ]
    }
   ],
   "source": [
    "month = int(input('Введите месяц рождения от 1 до 12: '))\n",
    "print()\n",
    "if month >= 1 and month <= 12:\n",
    "    bornday = int(input('Введите дату рождения от 1 до 31: '))\n",
    "    print()\n",
    "    if bornday >= 1 and bornday <= 31:\n",
    "        day_of_birth = bornday + month*100\n",
    "        print('Вывод: ')\n",
    "        if day_of_birth >= 120 and day_of_birth <= 218:\n",
    "            print('Знак зодиака: Водолей')\n",
    "        elif day_of_birth >= 219 and day_of_birth <= 320:\n",
    "            print('Знак зодиака: Рыбы')\n",
    "        elif day_of_birth >= 321 and day_of_birth <= 420:\n",
    "            print('Знак зодиака: Овен')\n",
    "        elif day_of_birth >= 421 and day_of_birth <= 520:\n",
    "            print('Знак зодиака: Телец')\n",
    "        elif day_of_birth >= 521 and day_of_birth <= 620:\n",
    "            print('Знак зодиака: Близнецы')\n",
    "        elif day_of_birth >= 621 and day_of_birth <= 722:\n",
    "            print('Знак зодиака: Рак')\n",
    "        elif day_of_birth >= 723 and day_of_birth <= 822:\n",
    "            print('Знак зодиака: Лев')\n",
    "        elif day_of_birth >= 823 and day_of_birth <= 923:\n",
    "            print('Знак зодиака: Дева')\n",
    "        elif day_of_birth >= 924 and day_of_birth <= 1023:\n",
    "            print('Знак зодиака: Весы')\n",
    "        elif day_of_birth >= 1024 and day_of_birth <= 1121:\n",
    "            print('Знак зодиака: Скорпион')\n",
    "        elif day_of_birth >= 1122 and day_of_birth <= 1221:\n",
    "            print('Знак зодиака: Стрелец')\n",
    "        else:\n",
    "            print('Знак зодиака: Козерог')\n",
    "    else:\n",
    "        print('Неправильно введена дата рождения')\n",
    "else:\n",
    "    print('Неправильно введен месяц рождения')  "
   ]
  },
  {
   "cell_type": "markdown",
   "metadata": {},
   "source": [
    "**Задание 4**. Нужно разработать приложение для финансового планирования.\n",
    "Приложение учитывает сколько уходит на ипотеку, \"на жизнь\" и сколько нужно отложить на пенсию.\n",
    "Пользователь вводит:\n",
    "- заработанную плату в месяц.\n",
    "- сколько процентов от ЗП уходит на ипотеку.\n",
    "- сколько процентов от ЗП уходит \"на жизнь\".\n",
    "- сколько раз приходит премия в год.\n",
    "\n",
    "Остальная часть заработанной платы откладывается на пенсию.\n",
    "\n",
    "Также пользователю приходит премия в размере зарплаты, от которой половина уходит на отпуск, а вторая половина откладывается.\n",
    "\n",
    "Программа должна учитывать сколько премий было в год.\n",
    "\n",
    "Нужно вывести сколько денег тратит пользователь на ипотеку и сколько он накопит за год.\n",
    "\n",
    "Пример:\n",
    "\n",
    "Введите заработанную плату в месяц: 100000\n",
    "\n",
    "Введите сколько процентов уходит на ипотеку: 30\n",
    "\n",
    "Введите сколько процентов уходит на жизнь: 50\n",
    "\n",
    "Введите количество премий за год: 2\n",
    "\n",
    "Вывод:\n",
    "На ипотеку было потрачено: 360000 рублей\n",
    "Было накоплено: 340000 рублей"
   ]
  },
  {
   "cell_type": "code",
   "execution_count": 40,
   "metadata": {},
   "outputs": [
    {
     "name": "stdout",
     "output_type": "stream",
     "text": [
      "Введите заработную плату в месяц: 100000\n",
      "\n",
      "Введите сколько % уходит на ипотеку: 30\n",
      "\n",
      "Введите сколько % уходит на жизнь: 50\n",
      "\n",
      "Введите количество премий за год: 2\n",
      "\n",
      "Вывод:\n",
      "На ипотеку было потрачено:  360000  рублей\n",
      "Было накоплено:  340000 рублей\n"
     ]
    }
   ],
   "source": [
    "income = int(input('Введите заработную плату в месяц: '))\n",
    "print()\n",
    "mortgage = int(input('Введите сколько % уходит на ипотеку: '))\n",
    "print()\n",
    "expense = int(input('Введите сколько % уходит на жизнь: '))\n",
    "print()\n",
    "bonus = int(input('Введите количество премий за год: '))\n",
    "print()\n",
    "if mortgage + expense <= 100:\n",
    "    income_year = income *12\n",
    "    bonus_year = bonus * income\n",
    "    mortgage_year = int((mortgage / 100) * income_year)\n",
    "    expense_year = (expense / 100) * income_year\n",
    "    vacation_year = bonus_year / 2\n",
    "    savings_year = int(income_year + bonus_year - mortgage_year - expense_year - vacation_year)\n",
    "    print('Вывод:')\n",
    "    print('На ипотеку было потрачено: ', mortgage_year, ' рублей')\n",
    "    print('Было накоплено: ',savings_year, 'рублей')\n",
    "else:\n",
    "    print('Неверное распределение расходов')"
   ]
  },
  {
   "cell_type": "code",
   "execution_count": null,
   "metadata": {},
   "outputs": [],
   "source": []
  },
  {
   "cell_type": "code",
   "execution_count": null,
   "metadata": {},
   "outputs": [],
   "source": []
  }
 ],
 "metadata": {
  "kernelspec": {
   "display_name": "Python 3",
   "language": "python",
   "name": "python3"
  },
  "language_info": {
   "codemirror_mode": {
    "name": "ipython",
    "version": 3
   },
   "file_extension": ".py",
   "mimetype": "text/x-python",
   "name": "python",
   "nbconvert_exporter": "python",
   "pygments_lexer": "ipython3",
   "version": "3.7.6"
  }
 },
 "nbformat": 4,
 "nbformat_minor": 2
}
