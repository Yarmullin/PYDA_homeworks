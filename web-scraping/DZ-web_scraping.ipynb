{
 "cells": [
  {
   "cell_type": "markdown",
   "metadata": {},
   "source": [
    "## Домашнее задание к лекции \"Основы веб-скрапинга и работы с API\"\n",
    "### Задание 1.\n",
    "#### Обязательная часть\n",
    "Будем парсить страницу со свежеми новостям на habr.com/ru/all/.\n",
    "\n",
    "Вам необходимо собирать только те статьи, в которых встречается хотя бы одно требуемое ключевое слово. Эти слова определяем в начале кода в переменной, например:\n",
    "\n",
    "KEYWORDS = ['python', 'парсинг']\n",
    "\n",
    "Поиск вести по всей доступной preview-информации (это информация, доступная непосредственно с текущей страницы).\n",
    "\n",
    "В итоге должен формироваться датафрейм со столбцами: <дата> - <заголовок> - <ссылка>.\n",
    "\n",
    "#### Дополнительная часть (необязательная)\n",
    "Улучшить скрипт так, чтобы он анализировал не только preview-информацию статьи, но и весь текст статьи целиком.\n",
    "\n",
    "Для этого потребуется получать страницы статей и искать по тексту внутри этой страницы.\n",
    "\n",
    "Итоговый датафрейм формировать со столбцами: <дата> - <заголовок> - <ссылка> - <текст статьи>"
   ]
  },
  {
   "cell_type": "code",
   "execution_count": 8,
   "metadata": {},
   "outputs": [],
   "source": [
    "import requests"
   ]
  },
  {
   "cell_type": "code",
   "execution_count": 9,
   "metadata": {},
   "outputs": [],
   "source": [
    "from bs4 import BeautifulSoup"
   ]
  },
  {
   "cell_type": "code",
   "execution_count": 10,
   "metadata": {},
   "outputs": [],
   "source": [
    "keywords = ['python', 'парсинг']"
   ]
  },
  {
   "cell_type": "code",
   "execution_count": 11,
   "metadata": {},
   "outputs": [],
   "source": [
    "import pandas as pd"
   ]
  },
  {
   "cell_type": "code",
   "execution_count": 12,
   "metadata": {},
   "outputs": [],
   "source": [
    "req = requests.get('https://habr.com/ru/all/')\n",
    "soup = BeautifulSoup(req.text, 'html.parser')"
   ]
  },
  {
   "cell_type": "code",
   "execution_count": 13,
   "metadata": {},
   "outputs": [],
   "source": [
    "posts = soup.find_all('article', class_='post')"
   ]
  },
  {
   "cell_type": "code",
   "execution_count": 14,
   "metadata": {},
   "outputs": [
    {
     "data": {
      "text/html": [
       "<div>\n",
       "<style scoped>\n",
       "    .dataframe tbody tr th:only-of-type {\n",
       "        vertical-align: middle;\n",
       "    }\n",
       "\n",
       "    .dataframe tbody tr th {\n",
       "        vertical-align: top;\n",
       "    }\n",
       "\n",
       "    .dataframe thead th {\n",
       "        text-align: right;\n",
       "    }\n",
       "</style>\n",
       "<table border=\"1\" class=\"dataframe\">\n",
       "  <thead>\n",
       "    <tr style=\"text-align: right;\">\n",
       "      <th></th>\n",
       "      <th>date</th>\n",
       "      <th>title</th>\n",
       "      <th>href</th>\n",
       "      <th>text</th>\n",
       "    </tr>\n",
       "  </thead>\n",
       "  <tbody>\n",
       "    <tr>\n",
       "      <th>0</th>\n",
       "      <td>вчера в 17:45</td>\n",
       "      <td>Python и теория множеств</td>\n",
       "      <td>https://habr.com/ru/post/516858/</td>\n",
       "      <td>\\nPython и теория множеств\\nВ Python есть очен...</td>\n",
       "    </tr>\n",
       "  </tbody>\n",
       "</table>\n",
       "</div>"
      ],
      "text/plain": [
       "            date                     title                              href  \\\n",
       "0  вчера в 17:45  Python и теория множеств  https://habr.com/ru/post/516858/   \n",
       "\n",
       "                                                text  \n",
       "0  \\nPython и теория множеств\\nВ Python есть очен...  "
      ]
     },
     "execution_count": 14,
     "metadata": {},
     "output_type": "execute_result"
    }
   ],
   "source": [
    "df_post = pd.DataFrame()\n",
    "for post in posts:\n",
    "    post_id = post.parent.attrs.get('id')\n",
    "    if not post_id:\n",
    "        continue\n",
    "    post_id = int(post_id.split('_')[-1])\n",
    "    hubs = post.find_all('a', class_='hub-link')\n",
    "    for hub in hubs:\n",
    "            hub_lower = hub.text.lower()\n",
    "            if any([hub_lower in desired for desired in keywords]):\n",
    "                date_element = post.find('span', class_ = 'post__time')\n",
    "                title_element = post.find('a', class_='post__title_link')\n",
    "                text_element = post.find('div', class_ = 'post__text post__text-html post__text_v1')\n",
    "                row = {'date': date_element.text, 'title': title_element.text, 'href': title_element.attrs.get('href'), 'text': text_element.text}\n",
    "                df_post = pd.concat([df_post, pd.DataFrame([row])])\n",
    "                break\n",
    "            else:\n",
    "                page = post.find('a', class_='btn btn_x-large btn_outline_blue post__habracut-btn')\n",
    "                textpost = requests.get(page.attrs.get('href'))\n",
    "                soup_text = BeautifulSoup(textpost.text, 'html.parser')\n",
    "                text_posts = soup_text.find_all('div', class_='post__wrapper')\n",
    "                for text in text_posts:\n",
    "                    text_lower = text.text.lower()\n",
    "                    for keywords_el in keywords:\n",
    "                        if keywords_el in text_lower:\n",
    "                            date_element = post.find('span', class_ = 'post__time')\n",
    "                            title_element = post.find('a', class_='post__title_link')\n",
    "                            text_element = post.find('div', class_ = 'post__text post__text-html post__text_v1')\n",
    "                            row = {'date': date_element.text, 'title': title_element.text, 'href': title_element.attrs.get('href'), 'text': text_element.text}\n",
    "                            df_post = pd.concat([df_post, pd.DataFrame([row])])\n",
    "                            break\n",
    "                break\n",
    "df_post"
   ]
  },
  {
   "cell_type": "code",
   "execution_count": null,
   "metadata": {},
   "outputs": [],
   "source": []
  },
  {
   "cell_type": "markdown",
   "metadata": {},
   "source": [
    "### Задание 2.\n",
    "#### Обязательная часть\n",
    "Написать скрипт, который будет проверять список e-mail адресов на утечку при помощи сервиса Avast Hack Ckeck. Список email-ов задаем переменной в начале кода:\n",
    "EMAIL = [xxx@x.ru, yyy@y.com]\n",
    "\n",
    "В итоге должен формироваться датафрейм со столбцами: <почта> - <дата утечки> - <источник утечки> - <описание утечки>.\n",
    "\n",
    "#### Дополнительная часть (необязательная)\n",
    "Написать скрипт, который будет получать 50 последних постов указанной группы во Вконтакте.\n",
    "Документация к API VK: https://vk.com/dev/methods , вам поможет метод wall.getGROUP = 'netology'\n",
    "TOKEN = УДАЛЯЙТЕ В ВЕРСИИ ДЛЯ ПРОВЕРКИ, НА GITHUB НЕ ВЫКЛАДЫВАТЬ\n",
    "\n",
    "В итоге должен формироваться датафрейм со столбцами: <дата поста> - <текст поста>."
   ]
  },
  {
   "cell_type": "code",
   "execution_count": 124,
   "metadata": {},
   "outputs": [
    {
     "name": "stdout",
     "output_type": "stream",
     "text": [
      "Утечек нет.\n"
     ]
    },
    {
     "data": {
      "text/html": [
       "<div>\n",
       "<style scoped>\n",
       "    .dataframe tbody tr th:only-of-type {\n",
       "        vertical-align: middle;\n",
       "    }\n",
       "\n",
       "    .dataframe tbody tr th {\n",
       "        vertical-align: top;\n",
       "    }\n",
       "\n",
       "    .dataframe thead th {\n",
       "        text-align: right;\n",
       "    }\n",
       "</style>\n",
       "<table border=\"1\" class=\"dataframe\">\n",
       "  <thead>\n",
       "    <tr style=\"text-align: right;\">\n",
       "      <th></th>\n",
       "    </tr>\n",
       "  </thead>\n",
       "  <tbody>\n",
       "  </tbody>\n",
       "</table>\n",
       "</div>"
      ],
      "text/plain": [
       "Empty DataFrame\n",
       "Columns: []\n",
       "Index: []"
      ]
     },
     "execution_count": 124,
     "metadata": {},
     "output_type": "execute_result"
    }
   ],
   "source": [
    "email = ['a.yarmullin@gmail.com', 'a.yarmullid@gmail.com']\n",
    "email_d ={}\n",
    "import time\n",
    "df_email = pd.DataFrame()\n",
    "for el in email:\n",
    "    email_d['email'] = el\n",
    "    avast = requests.post('https://digibody.avast.com/v1/web/leaks', json = email_d)\n",
    "    df_email2 = pd.DataFrame(avast.json()['value'])\n",
    "    df_email = pd.concat([df_email, df_email2])\n",
    "    time.sleep(0.2)\n",
    "if df_email.empty:\n",
    "    print('Утечек нет.')\n",
    "else:\n",
    "    df_email = df_email[['username', 'leak_date', 'leak_id', 'leak_info']]\n",
    "df_email"
   ]
  },
  {
   "cell_type": "code",
   "execution_count": 49,
   "metadata": {},
   "outputs": [],
   "source": [
    "soup.find?"
   ]
  },
  {
   "cell_type": "code",
   "execution_count": null,
   "metadata": {},
   "outputs": [],
   "source": []
  }
 ],
 "metadata": {
  "kernelspec": {
   "display_name": "Python 3",
   "language": "python",
   "name": "python3"
  },
  "language_info": {
   "codemirror_mode": {
    "name": "ipython",
    "version": 3
   },
   "file_extension": ".py",
   "mimetype": "text/x-python",
   "name": "python",
   "nbconvert_exporter": "python",
   "pygments_lexer": "ipython3",
   "version": "3.7.6"
  }
 },
 "nbformat": 4,
 "nbformat_minor": 4
}
