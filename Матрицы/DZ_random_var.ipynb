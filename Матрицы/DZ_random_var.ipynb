{
 "cells": [
  {
   "cell_type": "code",
   "execution_count": 31,
   "metadata": {},
   "outputs": [
    {
     "name": "stdout",
     "output_type": "stream",
     "text": [
      "0.26666666666666666\n"
     ]
    }
   ],
   "source": [
    "import numpy as np\n",
    "trials = 15\n",
    "simple = (2,3,5,7,11,13)\n",
    "successes = 0\n",
    "successes2 = 0\n",
    "for i in range(trials):\n",
    "    random_score = np.random.randint(1,3)\n",
    "    if random_score == 1:\n",
    "        successes +=1\n",
    "        if successes in simple:\n",
    "            successes2 +=1\n",
    "p = successes2/trials\n",
    "print(p)"
   ]
  },
  {
   "cell_type": "code",
   "execution_count": 20,
   "metadata": {},
   "outputs": [
    {
     "name": "stdout",
     "output_type": "stream",
     "text": [
      "[6 6 1 2 2 7 4 3 9 2]\n"
     ]
    }
   ],
   "source": [
    "import matplotlib.pyplot as plt\n",
    "trials = 1000\n",
    "a = [1,2,3,4,5,6,7,8,9]\n",
    "for i in range(trials):\n",
    "    rv = np.random.choice(a,10)\n",
    "print(rv)\n",
    "    "
   ]
  },
  {
   "cell_type": "code",
   "execution_count": 22,
   "metadata": {},
   "outputs": [
    {
     "data": {
      "text/plain": [
       "(array([1., 3., 1., 1., 0., 0., 2., 1., 0., 1.]),\n",
       " array([1. , 1.8, 2.6, 3.4, 4.2, 5. , 5.8, 6.6, 7.4, 8.2, 9. ]),\n",
       " <a list of 10 Patch objects>)"
      ]
     },
     "execution_count": 22,
     "metadata": {},
     "output_type": "execute_result"
    },
    {
     "data": {
      "image/png": "[encoded data removed]",
      "text/plain": [
       "<Figure size 432x288 with 1 Axes>"
      ]
     },
     "metadata": {
      "needs_background": "light"
     },
     "output_type": "display_data"
    }
   ],
   "source": [
    "plt.hist(rv)"
   ]
  },
  {
   "cell_type": "code",
   "execution_count": 30,
   "metadata": {},
   "outputs": [
    {
     "name": "stdout",
     "output_type": "stream",
     "text": [
      "Медиана: 3.5\n",
      "Среднее: 4.2\n",
      "Дисперсия: 6.36\n"
     ]
    }
   ],
   "source": [
    "print('Медиана:',np.median(rv))\n",
    "print('Среднее:',np.mean(rv))\n",
    "print('Дисперсия:', np.var(rv))"
   ]
  }
 ],
 "metadata": {
  "kernelspec": {
   "display_name": "Python 3",
   "language": "python",
   "name": "python3"
  },
  "language_info": {
   "codemirror_mode": {
    "name": "ipython",
    "version": 3
   },
   "file_extension": ".py",
   "mimetype": "text/x-python",
   "name": "python",
   "nbconvert_exporter": "python",
   "pygments_lexer": "ipython3",
   "version": "3.7.6"
  }
 },
 "nbformat": 4,
 "nbformat_minor": 4
}
