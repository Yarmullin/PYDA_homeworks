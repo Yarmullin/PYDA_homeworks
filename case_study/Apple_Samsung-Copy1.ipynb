{
 "cells": [
  {
   "cell_type": "markdown",
   "metadata": {},
   "source": [
    "# Изучим набор данных об удовлетворенности клиентов Apple и Samsung продуктами компаний"
   ]
  },
  {
   "cell_type": "code",
   "execution_count": 3,
   "metadata": {},
   "outputs": [],
   "source": [
    "import pandas as pd"
   ]
  },
  {
   "cell_type": "code",
   "execution_count": 4,
   "metadata": {},
   "outputs": [
    {
     "name": "stdout",
     "output_type": "stream",
     "text": [
      "<class 'pandas.core.frame.DataFrame'>\n",
      "RangeIndex: 100 entries, 0 to 99\n",
      "Data columns (total 5 columns):\n",
      " #   Column         Non-Null Count  Dtype \n",
      "---  ------         --------------  ----- \n",
      " 0   Sr No          100 non-null    int64 \n",
      " 1   S_Cust_id      100 non-null    object\n",
      " 2   Samsung_Score  100 non-null    int64 \n",
      " 3   Apple_Cust_id  100 non-null    object\n",
      " 4   Apple_Score    100 non-null    int64 \n",
      "dtypes: int64(3), object(2)\n",
      "memory usage: 4.0+ KB\n"
     ]
    }
   ],
   "source": [
    "df = pd.read_csv('apple_samsung.csv')\n",
    "df.info()"
   ]
  },
  {
   "cell_type": "markdown",
   "metadata": {},
   "source": [
    "1) Нужно сформулировать нулевую и альтернативную гипотезы;   \n",
    "2) Определить пороговый уровень статистической значимости;  \n",
    "3) Сколько у нас выборок (какой вариант теста используем)?  \n",
    "3) Нужен ли односторонний, либо двухсторонний вариант теста?  \n",
    "5) Определить, равна ли дисперсия групп."
   ]
  },
  {
   "cell_type": "markdown",
   "metadata": {},
   "source": [
    "## Клиенты удовлетворены продукцией Apple?"
   ]
  },
  {
   "cell_type": "markdown",
   "metadata": {},
   "source": [
    "H0: средняя удовлетворенность клиентов Apple продукцией компании >= 75%  \n",
    "H1: средняя удовлетворенность клиентов Apple продукцией компании составляет менее 75%\n"
   ]
  },
  {
   "cell_type": "markdown",
   "metadata": {},
   "source": [
    "За alpha здесь и далее будем принимать 0.05"
   ]
  },
  {
   "cell_type": "markdown",
   "metadata": {},
   "source": [
    "Сравниваем значение по выборке с константой, поэтому нужен одновыборочный критерий."
   ]
  },
  {
   "cell_type": "markdown",
   "metadata": {},
   "source": [
    "Тест нужен односторонний, т.к. нас интересует только неравенство в меньшую сторону."
   ]
  },
  {
   "cell_type": "markdown",
   "metadata": {},
   "source": [
    "Существует [мнение](http://daniellakens.blogspot.com/2015/01/always-use-welchs-t-test-instead-of.html), что использование критерия Уэлча всегда предпочтительнее, будем придерживаться этой позиции."
   ]
  },
  {
   "cell_type": "code",
   "execution_count": 5,
   "metadata": {
    "scrolled": false
   },
   "outputs": [
    {
     "name": "stdout",
     "output_type": "stream",
     "text": [
      "Ttest_1sampResult(statistic=13.304762704889383, pvalue=9.01061064721969e-24)\n",
      "Не отвергаем нулевую гипотезу, продукция Apple нравится клиентам\n"
     ]
    }
   ],
   "source": [
    "from scipy import stats as st\n",
    "alpha = 0.05\n",
    "result = st.ttest_1samp(df['Apple_Score'], 75)\n",
    "print(result)\n",
    "\n",
    "if (result.statistic < 0) & (result.pvalue / 2 < alpha):\n",
    "    print('Отвергаем нулевую гипотезу, среднее меньше 75')\n",
    "else:\n",
    "    print('Не отвергаем нулевую гипотезу, продукция Apple нравится клиентам')"
   ]
  },
  {
   "cell_type": "markdown",
   "metadata": {},
   "source": [
    "## Клиенты не удовлетворены продукцией Samsung?"
   ]
  },
  {
   "cell_type": "markdown",
   "metadata": {},
   "source": [
    "H0: средняя удовлетворенность клиентов Samsung продукцией компании <= 50%  \n",
    "H1: средняя удовлетворенность клиентов Samsung продукцией компании составляет не менее 50%"
   ]
  },
  {
   "cell_type": "code",
   "execution_count": 8,
   "metadata": {},
   "outputs": [
    {
     "name": "stdout",
     "output_type": "stream",
     "text": [
      "Ttest_1sampResult(statistic=29.465073943150735, pvalue=8.454355371190854e-51)\n",
      "Отвергаем нулевую гипотезу, среднее больше 50\n"
     ]
    }
   ],
   "source": [
    "alpha = 0.05\n",
    "result = st.ttest_1samp(df['Samsung_Score'], 50)\n",
    "print(result)\n",
    "if (result.statistic > 0) & (result.pvalue / 2 < alpha):\n",
    "    print('Отвергаем нулевую гипотезу, среднее больше 50')\n",
    "else:\n",
    "    print('Не отвергаем нулевую гипотезу, продукция Samsung не нравится клиентам')"
   ]
  },
  {
   "cell_type": "markdown",
   "metadata": {},
   "source": [
    "## Клиентам одинаково нравится продукция Apple и Samsung?"
   ]
  },
  {
   "cell_type": "markdown",
   "metadata": {},
   "source": [
    "H0: средняя удовлетворенность клиентов Samsung и Apple одинаковая  \n",
    "H1: средняя удовлетворенность клиентов Samsung и Apple различается"
   ]
  },
  {
   "cell_type": "markdown",
   "metadata": {},
   "source": [
    "Здесь нам уже нужен двухвыборочный двухсторонний критерий.  \n"
   ]
  },
  {
   "cell_type": "code",
   "execution_count": 9,
   "metadata": {},
   "outputs": [
    {
     "name": "stdout",
     "output_type": "stream",
     "text": [
      "Ttest_indResult(statistic=-1.9064295935043474, pvalue=0.05810311766331876)\n",
      "Не отвергаем нулевую гипотезу\n"
     ]
    }
   ],
   "source": [
    "result = st.ttest_ind(df['Samsung_Score'], df['Apple_Score'], equal_var=False)\n",
    "print(result)\n",
    "if (result.pvalue < alpha):\n",
    "    print('Отвергаем нулевую гипотезу, клиенты по разному относятся к продукции Apple и Samsung')\n",
    "else:\n",
    "    print('Не отвергаем нулевую гипотезу')"
   ]
  },
  {
   "cell_type": "code",
   "execution_count": null,
   "metadata": {},
   "outputs": [],
   "source": []
  }
 ],
 "metadata": {
  "kernelspec": {
   "display_name": "Python 3",
   "language": "python",
   "name": "python3"
  },
  "language_info": {
   "codemirror_mode": {
    "name": "ipython",
    "version": 3
   },
   "file_extension": ".py",
   "mimetype": "text/x-python",
   "name": "python",
   "nbconvert_exporter": "python",
   "pygments_lexer": "ipython3",
   "version": "3.7.6"
  }
 },
 "nbformat": 4,
 "nbformat_minor": 4
}
