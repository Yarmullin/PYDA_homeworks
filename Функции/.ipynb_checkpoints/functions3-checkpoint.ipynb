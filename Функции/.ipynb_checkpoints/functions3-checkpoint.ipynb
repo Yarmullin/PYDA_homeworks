{
 "cells": [
  {
   "cell_type": "markdown",
   "metadata": {},
   "source": [
    "Вы работаете секретарем и вам постоянно приходят различные документы. Вы должны быть очень внимательны, чтобы не потерять ни один документ. Каталог документов хранится в следующем виде:"
   ]
  },
  {
   "cell_type": "code",
   "execution_count": 52,
   "metadata": {},
   "outputs": [],
   "source": [
    "documents = [\n",
    "    {'type': 'passport', 'number': '2207 876234', 'name': 'Василий Гупкин'},\n",
    "    {'type': 'invoice', 'number': '11-2', 'name': 'Геннадий Покемонов'},\n",
    "    {'type': 'insurance', 'number': '10006', 'name': 'Аристарх Павлов'},\n",
    "]"
   ]
  },
  {
   "cell_type": "markdown",
   "metadata": {},
   "source": [
    "Перечень полок, на которых находятся документы хранится в следующем виде:"
   ]
  },
  {
   "cell_type": "code",
   "execution_count": 53,
   "metadata": {},
   "outputs": [],
   "source": [
    "directories = {\n",
    "    '1': ['2207 876234', '11-2'],\n",
    "    '2': ['10006'],\n",
    "    '3': []\n",
    "}"
   ]
  },
  {
   "cell_type": "code",
   "execution_count": 54,
   "metadata": {},
   "outputs": [],
   "source": [
    "def document_holder_name():\n",
    "    target = input('Введите номер документа: ')\n",
    "    found = 0\n",
    "    for doc_el in documents:\n",
    "        if doc_el.get('number') == target:\n",
    "            print(doc_el.get('name'))\n",
    "            break\n",
    "        else:\n",
    "            found += 1\n",
    "    if found > len(documents)-1:\n",
    "        print('Документ не найден.')"
   ]
  },
  {
   "cell_type": "code",
   "execution_count": 55,
   "metadata": {},
   "outputs": [],
   "source": [
    "def number_shelf():\n",
    "    list_number_doc = list()\n",
    "    for doc_el in documents:\n",
    "        list_number_doc.append(doc_el.get('number'))\n",
    "    target1 = input('Введите номер документа: ')\n",
    "    found1 = 0\n",
    "    if target1 in list_number_doc:\n",
    "        for key, value in directories.items():\n",
    "            if target1 in value:\n",
    "                print('Номер полки: ',key)\n",
    "            else:\n",
    "                found1 += 1\n",
    "    else:\n",
    "        print('Введен несуществующий документ.')"
   ]
  },
  {
   "cell_type": "code",
   "execution_count": 56,
   "metadata": {},
   "outputs": [],
   "source": [
    "def list_documents():\n",
    "    for doc_el in documents:\n",
    "        list_doc = list(doc_el.values())\n",
    "        row = '\" \"'.join(list_doc)+'\"'\n",
    "        print(row)"
   ]
  },
  {
   "cell_type": "code",
   "execution_count": 57,
   "metadata": {},
   "outputs": [],
   "source": [
    "def add_dir():\n",
    "    list_dir = list()\n",
    "    for dir_el in directories:\n",
    "        list_dir.append(dir_el)\n",
    "    target2 = input('Введите порядковый номер полки: ')\n",
    "    if target2 not in list_dir:\n",
    "        directories[target2] = list()\n",
    "        print(directories)\n",
    "    else:\n",
    "        print('Полка уже существует.')"
   ]
  },
  {
   "cell_type": "code",
   "execution_count": 58,
   "metadata": {},
   "outputs": [],
   "source": [
    "def del_document():\n",
    "    list_number_doc1 = list()\n",
    "    for doc_el in documents:\n",
    "        list_number_doc1.append(doc_el.get('number'))\n",
    "    target3 = input('Введите номер документа: ')\n",
    "    found3 = 0\n",
    "    if target3 in list_number_doc1:\n",
    "        for key, value in directories.items():\n",
    "            if target3 in value:\n",
    "                value.remove(target3)\n",
    "                list_number_doc1.remove(target3)\n",
    "            else:\n",
    "                found3 += 1\n",
    "        for doc_el in documents:\n",
    "            if target3 in doc_el.get('number'):\n",
    "                del(doc_el['type'])\n",
    "                del(doc_el['number'])\n",
    "                del(doc_el['name'])\n",
    "        dict1 = {}\n",
    "        for doc_el in documents:\n",
    "            if doc_el == dict1:\n",
    "                documents.remove(doc_el)\n",
    "        print(directories)\n",
    "        print(documents)\n",
    "    else:\n",
    "        print('Введен несуществующий документ.')"
   ]
  },
  {
   "cell_type": "code",
   "execution_count": 59,
   "metadata": {},
   "outputs": [],
   "source": [
    "def move_document():\n",
    "    target_doc = input('Введите номер документа: ')\n",
    "    list_number_doc2 = list()\n",
    "    for doc_el in documents:\n",
    "        list_number_doc2.append(doc_el.get('number'))\n",
    "    list_number_shelf = list()\n",
    "    for dir_el in directories:\n",
    "        list_number_shelf.append(dir_el)\n",
    "    if target_doc in list_number_doc2:\n",
    "        target_num = input('Введите номер полки: ')\n",
    "        if target_num in list_number_shelf:\n",
    "            for key, value in directories.items():\n",
    "                if target_doc in value:\n",
    "                    value.remove(target_doc)\n",
    "                if target_num in key:\n",
    "                    value.append(target_doc)\n",
    "            print(directories)\n",
    "        else:\n",
    "            print('Введена несуществующая полка.')\n",
    "    else:\n",
    "        print('Введен несуществующий документ.')"
   ]
  },
  {
   "cell_type": "code",
   "execution_count": 60,
   "metadata": {},
   "outputs": [],
   "source": [
    "def add_document():\n",
    "    new_document = {}\n",
    "    input_type = input('Введите тип документа: ')\n",
    "    input_number = input('Введите номер документа: ')\n",
    "    input_name = input('Введите имя держателя документа: ')\n",
    "    new_document['type'] = input_type\n",
    "    new_document['number'] = input_number\n",
    "    new_document['name'] = input_name\n",
    "    if new_document in documents:\n",
    "        print('Введен уже существующий документ.')\n",
    "    else:\n",
    "        documents.append(new_document)\n",
    "        input_dir = input('Введите номер полки: ')\n",
    "        list_number_shelf = list()\n",
    "        for dir_el in directories:\n",
    "            list_number_shelf.append(dir_el)\n",
    "        if input_dir in list_number_shelf:\n",
    "            for key, value in directories.items():\n",
    "                if input_dir in key:\n",
    "                    value.append(input_number)\n",
    "                    print(directories)\n",
    "        else:\n",
    "            print('Ошибка: введена несуществующая полка. Список документов не обновлен.')\n",
    "            print('Нужно ввести еще раз документ и существующую полку.')\n",
    "            documents.remove(new_document)"
   ]
  },
  {
   "cell_type": "code",
   "execution_count": 61,
   "metadata": {},
   "outputs": [
    {
     "name": "stdout",
     "output_type": "stream",
     "text": [
      "Введите команду: asx\n",
      "нет такой команды\n"
     ]
    }
   ],
   "source": [
    "user_command = input('Введите команду: ')\n",
    "if user_command == 'p':\n",
    "    document_holder_name()\n",
    "elif user_command == 's':\n",
    "    number_shelf()\n",
    "elif user_command == 'l':\n",
    "    list_documents()\n",
    "elif user_command == 'as':\n",
    "    add_dir()\n",
    "elif user_command == 'd':\n",
    "    del_document()\n",
    "elif user_command == 'm':\n",
    "    move_document()\n",
    "elif user_command == 'a':\n",
    "    add_document()\n",
    "else:\n",
    "    print('Нет такой команды.')\n",
    "    "
   ]
  },
  {
   "cell_type": "markdown",
   "metadata": {},
   "source": [
    "Необходимо реализовать пользовательские команды (внимание! это не название функций, которые должны быть выразительными, а команды, которые вводит пользователь, чтобы получить необходимый результат):\n",
    "  \n",
    "- p – people – команда, которая спросит номер документа и выведет имя человека, которому он принадлежит;  \n",
    "- s – shelf – команда, которая спросит номер документа и выведет номер полки, на которой он находится  \n",
    "*Правильно обработайте ситуации, когда пользователь будет вводить несуществующий документ*.\n",
    "- l – list – команда, которая выведет список всех документов в формате   \n",
    "**passport \"2207 876234\" \"Василий Гупкин\"**  \n",
    "- as – add shelf – команда, которая спросит номер новой полки и добавит ее в перечень. *Предусмотрите случай, когда пользователь добавляет полку, которая уже существует*.\n",
    "- d – delete – команда, которая спросит номер документа и удалит его из каталога и из перечня полок. *Предусмотрите сценарий, когда пользователь вводит несуществующий документ*;  \n",
    "- m – move – команда, которая спросит номер документа и целевую полку и переместит его с текущей полки на целевую. *Корректно обработайте кейсы, когда пользователь пытается переместить несуществующий документ или переместить документ на несуществующую полку*;  \n",
    "- a – add – команда, которая добавит новый документ в каталог и в перечень полок, спросив его номер, тип, имя владельца и номер полки, на котором он будет храниться. *Корректно обработайте ситуацию, когда пользователь будет пытаться добавить документ на несуществующую полку*."
   ]
  }
 ],
 "metadata": {
  "kernelspec": {
   "display_name": "Python 3",
   "language": "python",
   "name": "python3"
  },
  "language_info": {
   "codemirror_mode": {
    "name": "ipython",
    "version": 3
   },
   "file_extension": ".py",
   "mimetype": "text/x-python",
   "name": "python",
   "nbconvert_exporter": "python",
   "pygments_lexer": "ipython3",
   "version": "3.7.6"
  }
 },
 "nbformat": 4,
 "nbformat_minor": 2
}
