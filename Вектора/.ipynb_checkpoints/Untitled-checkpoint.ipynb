{
 "cells": [
  {
   "cell_type": "markdown",
   "metadata": {},
   "source": [
    "### Уровень 0:\n",
    "Даны вектора x=(1,1), y=(2, 0) и z = (0,2)\n",
    "Надо:\n",
    "Изобразить вектора на экране\n",
    "Изобразить точку x + y + z\n",
    "Найти угол между векторами x и y\n"
   ]
  },
  {
   "cell_type": "code",
   "execution_count": 44,
   "metadata": {},
   "outputs": [],
   "source": [
    "import numpy as np\n",
    "import matplotlib.pyplot as plt"
   ]
  },
  {
   "cell_type": "code",
   "execution_count": 45,
   "metadata": {},
   "outputs": [],
   "source": [
    "v1 = np.array([1.,1.])\n",
    "v2 = np.array([2.,0.])\n",
    "v3 = np.array([0.,2.])"
   ]
  },
  {
   "cell_type": "code",
   "execution_count": 46,
   "metadata": {},
   "outputs": [
    {
     "data": {
      "image/png": "[encoded data removed]",
      "text/plain": [
       "<Figure size 432x288 with 1 Axes>"
      ]
     },
     "metadata": {
      "needs_background": "light"
     },
     "output_type": "display_data"
    }
   ],
   "source": [
    "plt.figure()\n",
    "plt.plot(v1[0], v1[1], 'o')\n",
    "plt.plot(v2[0], v2[1], 'o')\n",
    "plt.plot(v3[0], v3[1], 'o')\n",
    "plt.grid()"
   ]
  },
  {
   "cell_type": "markdown",
   "metadata": {},
   "source": [
    "### Уровень 1:\n",
    "Даны дома из Бостона\n",
    "Выбрать любые n домов, образующих базис в пространстве признаков дома (все колонки, кроме medv)\n",
    "Написать код разложения дома по указанному базису"
   ]
  },
  {
   "cell_type": "code",
   "execution_count": 47,
   "metadata": {},
   "outputs": [],
   "source": [
    "import pandas as pd"
   ]
  },
  {
   "cell_type": "code",
   "execution_count": 48,
   "metadata": {},
   "outputs": [
    {
     "data": {
      "text/plain": [
       "array([[1.58760e-01, 0.00000e+00, 1.08100e+01, 0.00000e+00, 4.13000e-01,\n",
       "        5.96100e+00, 1.75000e+01, 5.28730e+00, 4.00000e+00, 3.05000e+02,\n",
       "        1.92000e+01, 3.76940e+02, 9.88000e+00],\n",
       "       [1.03280e-01, 2.50000e+01, 5.13000e+00, 0.00000e+00, 4.53000e-01,\n",
       "        5.92700e+00, 4.72000e+01, 6.93200e+00, 8.00000e+00, 2.84000e+02,\n",
       "        1.97000e+01, 3.96900e+02, 9.22000e+00],\n",
       "       [3.49400e-01, 0.00000e+00, 9.90000e+00, 0.00000e+00, 5.44000e-01,\n",
       "        5.97200e+00, 7.67000e+01, 3.10250e+00, 4.00000e+00, 3.04000e+02,\n",
       "        1.84000e+01, 3.96240e+02, 9.97000e+00],\n",
       "       [2.73397e+00, 0.00000e+00, 1.95800e+01, 0.00000e+00, 8.71000e-01,\n",
       "        5.59700e+00, 9.49000e+01, 1.52570e+00, 5.00000e+00, 4.03000e+02,\n",
       "        1.47000e+01, 3.51850e+02, 2.14500e+01],\n",
       "       [4.33700e-02, 2.10000e+01, 5.64000e+00, 0.00000e+00, 4.39000e-01,\n",
       "        6.11500e+00, 6.30000e+01, 6.81470e+00, 4.00000e+00, 2.43000e+02,\n",
       "        1.68000e+01, 3.93970e+02, 9.43000e+00],\n",
       "       [8.37000e-02, 4.50000e+01, 3.44000e+00, 0.00000e+00, 4.37000e-01,\n",
       "        7.18500e+00, 3.89000e+01, 4.56670e+00, 5.00000e+00, 3.98000e+02,\n",
       "        1.52000e+01, 3.96900e+02, 5.39000e+00],\n",
       "       [1.90730e-01, 2.20000e+01, 5.86000e+00, 0.00000e+00, 4.31000e-01,\n",
       "        6.71800e+00, 1.75000e+01, 7.82650e+00, 7.00000e+00, 3.30000e+02,\n",
       "        1.91000e+01, 3.93740e+02, 6.56000e+00],\n",
       "       [2.69380e-01, 0.00000e+00, 9.90000e+00, 0.00000e+00, 5.44000e-01,\n",
       "        6.26600e+00, 8.28000e+01, 3.26280e+00, 4.00000e+00, 3.04000e+02,\n",
       "        1.84000e+01, 3.93390e+02, 7.90000e+00],\n",
       "       [1.00623e+01, 0.00000e+00, 1.81000e+01, 0.00000e+00, 5.84000e-01,\n",
       "        6.83300e+00, 9.43000e+01, 2.08820e+00, 2.40000e+01, 6.66000e+02,\n",
       "        2.02000e+01, 8.13300e+01, 1.96900e+01],\n",
       "       [1.41385e+00, 0.00000e+00, 1.95800e+01, 1.00000e+00, 8.71000e-01,\n",
       "        6.12900e+00, 9.60000e+01, 1.74940e+00, 5.00000e+00, 4.03000e+02,\n",
       "        1.47000e+01, 3.21020e+02, 1.51200e+01],\n",
       "       [2.59406e+01, 0.00000e+00, 1.81000e+01, 0.00000e+00, 6.79000e-01,\n",
       "        5.30400e+00, 8.91000e+01, 1.64750e+00, 2.40000e+01, 6.66000e+02,\n",
       "        2.02000e+01, 1.27360e+02, 2.66400e+01],\n",
       "       [9.25200e-02, 3.00000e+01, 4.93000e+00, 0.00000e+00, 4.28000e-01,\n",
       "        6.60600e+00, 4.22000e+01, 6.18990e+00, 6.00000e+00, 3.00000e+02,\n",
       "        1.66000e+01, 3.83780e+02, 7.37000e+00],\n",
       "       [1.00245e+00, 0.00000e+00, 8.14000e+00, 0.00000e+00, 5.38000e-01,\n",
       "        6.67400e+00, 8.73000e+01, 4.23900e+00, 4.00000e+00, 3.07000e+02,\n",
       "        2.10000e+01, 3.80230e+02, 1.19800e+01]])"
      ]
     },
     "execution_count": 48,
     "metadata": {},
     "output_type": "execute_result"
    }
   ],
   "source": [
    "boston = pd.read_csv('boston_data.csv')\n",
    "del boston['medv']\n",
    "boston1 = boston.head(13).values\n",
    "boston1"
   ]
  },
  {
   "cell_type": "code",
   "execution_count": 49,
   "metadata": {},
   "outputs": [
    {
     "data": {
      "text/plain": [
       "-478254911772.19904"
      ]
     },
     "execution_count": 49,
     "metadata": {},
     "output_type": "execute_result"
    }
   ],
   "source": [
    "from numpy import linalg\n",
    "linalg.det(boston1)"
   ]
  },
  {
   "cell_type": "code",
   "execution_count": 50,
   "metadata": {},
   "outputs": [
    {
     "data": {
      "text/plain": [
       "array([[1.58760e-01, 1.03280e-01, 3.49400e-01, 2.73397e+00, 4.33700e-02,\n",
       "        8.37000e-02, 1.90730e-01, 2.69380e-01, 1.00623e+01, 1.41385e+00,\n",
       "        2.59406e+01, 9.25200e-02, 1.00245e+00],\n",
       "       [0.00000e+00, 2.50000e+01, 0.00000e+00, 0.00000e+00, 2.10000e+01,\n",
       "        4.50000e+01, 2.20000e+01, 0.00000e+00, 0.00000e+00, 0.00000e+00,\n",
       "        0.00000e+00, 3.00000e+01, 0.00000e+00],\n",
       "       [1.08100e+01, 5.13000e+00, 9.90000e+00, 1.95800e+01, 5.64000e+00,\n",
       "        3.44000e+00, 5.86000e+00, 9.90000e+00, 1.81000e+01, 1.95800e+01,\n",
       "        1.81000e+01, 4.93000e+00, 8.14000e+00],\n",
       "       [0.00000e+00, 0.00000e+00, 0.00000e+00, 0.00000e+00, 0.00000e+00,\n",
       "        0.00000e+00, 0.00000e+00, 0.00000e+00, 0.00000e+00, 1.00000e+00,\n",
       "        0.00000e+00, 0.00000e+00, 0.00000e+00],\n",
       "       [4.13000e-01, 4.53000e-01, 5.44000e-01, 8.71000e-01, 4.39000e-01,\n",
       "        4.37000e-01, 4.31000e-01, 5.44000e-01, 5.84000e-01, 8.71000e-01,\n",
       "        6.79000e-01, 4.28000e-01, 5.38000e-01],\n",
       "       [5.96100e+00, 5.92700e+00, 5.97200e+00, 5.59700e+00, 6.11500e+00,\n",
       "        7.18500e+00, 6.71800e+00, 6.26600e+00, 6.83300e+00, 6.12900e+00,\n",
       "        5.30400e+00, 6.60600e+00, 6.67400e+00],\n",
       "       [1.75000e+01, 4.72000e+01, 7.67000e+01, 9.49000e+01, 6.30000e+01,\n",
       "        3.89000e+01, 1.75000e+01, 8.28000e+01, 9.43000e+01, 9.60000e+01,\n",
       "        8.91000e+01, 4.22000e+01, 8.73000e+01],\n",
       "       [5.28730e+00, 6.93200e+00, 3.10250e+00, 1.52570e+00, 6.81470e+00,\n",
       "        4.56670e+00, 7.82650e+00, 3.26280e+00, 2.08820e+00, 1.74940e+00,\n",
       "        1.64750e+00, 6.18990e+00, 4.23900e+00],\n",
       "       [4.00000e+00, 8.00000e+00, 4.00000e+00, 5.00000e+00, 4.00000e+00,\n",
       "        5.00000e+00, 7.00000e+00, 4.00000e+00, 2.40000e+01, 5.00000e+00,\n",
       "        2.40000e+01, 6.00000e+00, 4.00000e+00],\n",
       "       [3.05000e+02, 2.84000e+02, 3.04000e+02, 4.03000e+02, 2.43000e+02,\n",
       "        3.98000e+02, 3.30000e+02, 3.04000e+02, 6.66000e+02, 4.03000e+02,\n",
       "        6.66000e+02, 3.00000e+02, 3.07000e+02],\n",
       "       [1.92000e+01, 1.97000e+01, 1.84000e+01, 1.47000e+01, 1.68000e+01,\n",
       "        1.52000e+01, 1.91000e+01, 1.84000e+01, 2.02000e+01, 1.47000e+01,\n",
       "        2.02000e+01, 1.66000e+01, 2.10000e+01],\n",
       "       [3.76940e+02, 3.96900e+02, 3.96240e+02, 3.51850e+02, 3.93970e+02,\n",
       "        3.96900e+02, 3.93740e+02, 3.93390e+02, 8.13300e+01, 3.21020e+02,\n",
       "        1.27360e+02, 3.83780e+02, 3.80230e+02],\n",
       "       [9.88000e+00, 9.22000e+00, 9.97000e+00, 2.14500e+01, 9.43000e+00,\n",
       "        5.39000e+00, 6.56000e+00, 7.90000e+00, 1.96900e+01, 1.51200e+01,\n",
       "        2.66400e+01, 7.37000e+00, 1.19800e+01]])"
      ]
     },
     "execution_count": 50,
     "metadata": {},
     "output_type": "execute_result"
    }
   ],
   "source": [
    "boston_left = boston1.transpose()\n",
    "boston_left"
   ]
  },
  {
   "cell_type": "code",
   "execution_count": 51,
   "metadata": {},
   "outputs": [],
   "source": [
    "boston2 = boston.tail(1)\n",
    "boston_right = boston2.values.transpose()"
   ]
  },
  {
   "cell_type": "code",
   "execution_count": 52,
   "metadata": {},
   "outputs": [
    {
     "data": {
      "text/plain": [
       "array([[ 9.44457251e-02],\n",
       "       [ 1.10769413e-01],\n",
       "       [-3.81707673e-01],\n",
       "       [ 1.12770883e-01],\n",
       "       [-7.70908533e-01],\n",
       "       [-1.24669482e-01],\n",
       "       [ 2.11637970e-01],\n",
       "       [ 1.64626206e-01],\n",
       "       [-1.21019613e-01],\n",
       "       [ 7.64200583e-17],\n",
       "       [ 2.99297917e-02],\n",
       "       [ 1.47913117e+00],\n",
       "       [ 1.44354420e-01]])"
      ]
     },
     "execution_count": 52,
     "metadata": {},
     "output_type": "execute_result"
    }
   ],
   "source": [
    "linalg.solve(boston_left, boston_right)"
   ]
  }
 ],
 "metadata": {
  "kernelspec": {
   "display_name": "Python 3",
   "language": "python",
   "name": "python3"
  },
  "language_info": {
   "codemirror_mode": {
    "name": "ipython",
    "version": 3
   },
   "file_extension": ".py",
   "mimetype": "text/x-python",
   "name": "python",
   "nbconvert_exporter": "python",
   "pygments_lexer": "ipython3",
   "version": "3.7.6"
  }
 },
 "nbformat": 4,
 "nbformat_minor": 4
}
