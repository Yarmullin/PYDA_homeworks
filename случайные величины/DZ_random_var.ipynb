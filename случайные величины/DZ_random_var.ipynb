{
 "cells": [
  {
   "cell_type": "markdown",
   "metadata": {},
   "source": [
    "Смоделировать игру против лотерейного автомата типа “777”. Игрок платит 1 руб., после чего выпадает случайное целое число, равномерно распределенное от 0 до 999. При некоторых значениях числа игрок получает выигрыш (см. справа)\n",
    "\n",
    "Выгодна ли игра игроку?\n",
    "\n",
    "Сколько в среднем приобретает\n",
    "или теряет игрок за одну игру?\n",
    "\n",
    "777: 200 руб.\n",
    "\n",
    "999: 100 руб.\n",
    "\n",
    "555: 50 руб.\n",
    "\n",
    "333: 15 руб.\n",
    "\n",
    "111: 10 руб.\n",
    "\n",
    "*77: 5 руб.\n",
    "\n",
    "**7: 3 руб.\n",
    "\n",
    "*00: 2 руб.\n",
    "\n",
    "**0: 1 руб.\n",
    "\n",
    "– любая цифра\n",
    "\n",
    "Дополнительное задание повышенной сложности. Теоретически рассчитать средний выигрыш (проигрыш) и сравнить с результатами моделирования"
   ]
  },
  {
   "cell_type": "code",
   "execution_count": 66,
   "metadata": {},
   "outputs": [
    {
     "name": "stdout",
     "output_type": "stream",
     "text": [
      "Выигрыш в руб.: 78335\n",
      "Выплата в руб.: 100000\n",
      "Прибыль/убыток в %: -21.66\n",
      "Прибыль/убыток в руб.: -21665\n"
     ]
    }
   ],
   "source": [
    "import numpy as np\n",
    "import re\n",
    "trials = 100000\n",
    "payment = 0\n",
    "win = 0\n",
    "outcomes = []\n",
    "for i in range(trials):\n",
    "    payment += 1\n",
    "    x =\"%03d\" % np.random.randint(0,1000,1)\n",
    "    outcomes.append(x)\n",
    "    if x == '777':\n",
    "        win = win + 200\n",
    "    elif x == '999':\n",
    "        win = win + 100\n",
    "    elif x == '555':\n",
    "        win = win + 50\n",
    "    elif x == '333':\n",
    "        win = win + 15\n",
    "    elif x == '111':\n",
    "        win = win + 10\n",
    "    elif re.search(r'\\d77',x):\n",
    "        win = win + 5\n",
    "    elif re.search(r'\\d\\d7',x):\n",
    "        win = win + 3\n",
    "    elif re.search(r'\\d00',x):\n",
    "        win = win + 2\n",
    "    elif re.search(r'\\d\\d0',x):\n",
    "        win = win + 1\n",
    "    income_per = ((win-payment)/payment)*100\n",
    "    income = win - payment\n",
    "print('Выигрыш в руб.:',win)\n",
    "print('Выплата в руб.:',payment)\n",
    "print('Прибыль/убыток в %:',round(income_per,2))\n",
    "print('Прибыль/убыток в руб.:',income)"
   ]
  },
  {
   "cell_type": "code",
   "execution_count": null,
   "metadata": {},
   "outputs": [],
   "source": []
  }
 ],
 "metadata": {
  "kernelspec": {
   "display_name": "Python 3",
   "language": "python",
   "name": "python3"
  },
  "language_info": {
   "codemirror_mode": {
    "name": "ipython",
    "version": 3
   },
   "file_extension": ".py",
   "mimetype": "text/x-python",
   "name": "python",
   "nbconvert_exporter": "python",
   "pygments_lexer": "ipython3",
   "version": "3.7.6"
  }
 },
 "nbformat": 4,
 "nbformat_minor": 4
}
